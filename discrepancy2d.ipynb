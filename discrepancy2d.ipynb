{
 "cells": [
  {
   "cell_type": "markdown",
   "metadata": {},
   "source": [
    "# Two dimensions discrepancy model"
   ]
  },
  {
   "cell_type": "code",
   "execution_count": 1,
   "metadata": {
    "collapsed": false,
    "slideshow": {
     "slide_type": "-"
    }
   },
   "outputs": [],
   "source": [
    "import matplotlib.pyplot as plt\n",
    "import numpy as np\n",
    "\n",
    "%matplotlib inline\n",
    "%reload_ext autoreload"
   ]
  },
  {
   "cell_type": "code",
   "execution_count": 2,
   "metadata": {},
   "outputs": [
    {
     "data": {
      "text/plain": [
       "array([[ 1.,  1.,  1.,  1.,  1.,  1.,  1.,  1.,  1.,  1.],\n",
       "       [ 1.,  1.,  1.,  1.,  1.,  1.,  1.,  1.,  1.,  1.],\n",
       "       [ 1.,  1.,  1.,  1.,  1.,  1.,  1.,  1.,  1.,  1.],\n",
       "       [ 1.,  1.,  1.,  1.,  1.,  1.,  1.,  1.,  1.,  1.],\n",
       "       [ 1.,  1.,  1.,  1.,  1.,  1.,  1.,  1.,  1.,  1.],\n",
       "       [ 1.,  1.,  1.,  1.,  1.,  1.,  1.,  1.,  1.,  1.],\n",
       "       [ 1.,  1.,  1.,  1.,  1.,  1.,  1.,  1.,  1.,  1.],\n",
       "       [ 1.,  1.,  1.,  1.,  1.,  1.,  1.,  1.,  1.,  1.],\n",
       "       [ 1.,  1.,  1.,  1.,  1.,  1.,  1.,  1.,  1.,  1.],\n",
       "       [ 1.,  1.,  1.,  1.,  1.,  1.,  1.,  1.,  1.,  1.]])"
      ]
     },
     "execution_count": 2,
     "metadata": {},
     "output_type": "execute_result"
    }
   ],
   "source": [
    "space_size = 10\n",
    "#space = np.array(np.random.sample((space_size, space_size)) > 0.01, dtype=int)\n",
    "space = np.ones((space_size, space_size))\n",
    "space"
   ]
  },
  {
   "cell_type": "code",
   "execution_count": 3,
   "metadata": {},
   "outputs": [
    {
     "data": {
      "text/plain": [
       "array([[ 1.,  1.,  1.,  1.,  1.,  1.,  1.,  1.,  1.,  1.],\n",
       "       [ 1.,  1.,  1.,  0.,  0.,  0.,  0.,  1.,  1.,  1.],\n",
       "       [ 1.,  1.,  1.,  0.,  0.,  0.,  0.,  1.,  1.,  1.],\n",
       "       [ 1.,  1.,  1.,  0.,  0.,  0.,  0.,  1.,  1.,  1.],\n",
       "       [ 1.,  1.,  1.,  0.,  0.,  0.,  0.,  1.,  1.,  1.],\n",
       "       [ 1.,  1.,  1.,  1.,  1.,  1.,  1.,  1.,  1.,  1.],\n",
       "       [ 1.,  1.,  1.,  1.,  1.,  1.,  1.,  1.,  1.,  1.],\n",
       "       [ 1.,  1.,  1.,  1.,  1.,  1.,  1.,  1.,  1.,  1.],\n",
       "       [ 1.,  1.,  1.,  1.,  1.,  1.,  1.,  1.,  1.,  1.],\n",
       "       [ 1.,  1.,  1.,  1.,  1.,  1.,  1.,  1.,  1.,  1.]])"
      ]
     },
     "execution_count": 3,
     "metadata": {},
     "output_type": "execute_result"
    }
   ],
   "source": [
    "space[3-2:3+2, 5-2:5+2] = 0\n",
    "space"
   ]
  },
  {
   "cell_type": "code",
   "execution_count": 4,
   "metadata": {},
   "outputs": [
    {
     "data": {
      "image/png": "[encoded data removed]",
      "text/plain": [
       "<matplotlib.figure.Figure at 0x10f87bfd0>"
      ]
     },
     "metadata": {},
     "output_type": "display_data"
    }
   ],
   "source": [
    "plt.imshow(space, cmap='binary');"
   ]
  },
  {
   "cell_type": "code",
   "execution_count": 38,
   "metadata": {},
   "outputs": [],
   "source": [
    "class Drop():\n",
    "    \"\"\"A drop at given position x, y and size r (radius).\"\"\"\n",
    "    def __init__(self, x, y, r):\n",
    "        self.x = x\n",
    "        self.y = y\n",
    "        self.r = r\n",
    "    \n",
    "class Space():\n",
    "    \"\"\"A square space of given size.\"\"\"\n",
    "    def __init__(self, size):\n",
    "        self.size = size\n",
    "        self.array = np.ones((size, size))\n",
    "        \n",
    "class SquareDensity():\n",
    "    \"\"\"Square uniform density for given drops in given space.\n",
    "    \n",
    "    Parameters:\n",
    "    -----------\n",
    "    space : Space\n",
    "        the space where to define the density\n",
    "    drops : iterable of Drop.\n",
    "    \n",
    "    \"\"\"\n",
    "    def __init__(self, space, drops):\n",
    "        self.drops = drops\n",
    "        self.density = self.make_density(space, drops)\n",
    "        \n",
    "    def make_density(self, space, drops):\n",
    "        density = space.array.copy()\n",
    "        for drop in drops:\n",
    "            # boundaries\n",
    "            bx1 = max(0, drop.x - drop.r)\n",
    "            bx2 = min(space.size, drop.x + drop.r)\n",
    "            by1 = max(0, drop.y - drop.r)\n",
    "            by2 = min(space.size, drop.y + drop.r)\n",
    "            density[bx1:bx2+1, by1:by2+1] = 0\n",
    "        return density\n",
    "    \n",
    "    def plot(self):\n",
    "        plt.imshow(self.density, cmap='gray')\n",
    "        xsys = np.array([(drop.x, drop.y) for drop in self.drops])\n",
    "        xs, ys = xsys[:, 0], xsys[:, 1]\n",
    "        plt.scatter(y=xs, x=ys, color='red', marker = '.');\n",
    "            "
   ]
  },
  {
   "cell_type": "code",
   "execution_count": 30,
   "metadata": {},
   "outputs": [
    {
     "data": {
      "text/plain": [
       "array([[1, 2],\n",
       "       [3, 4]])"
      ]
     },
     "execution_count": 30,
     "metadata": {},
     "output_type": "execute_result"
    }
   ],
   "source": [
    "arr = np.array([(1,2), (3,4)])\n",
    "arr"
   ]
  },
  {
   "cell_type": "code",
   "execution_count": 32,
   "metadata": {},
   "outputs": [
    {
     "data": {
      "text/plain": [
       "array([2, 4])"
      ]
     },
     "execution_count": 32,
     "metadata": {},
     "output_type": "execute_result"
    }
   ],
   "source": [
    "arr[:,1]"
   ]
  },
  {
   "cell_type": "code",
   "execution_count": 39,
   "metadata": {},
   "outputs": [],
   "source": [
    "sp = Space(100)\n",
    "dr1 = Drop(3, 5, 2)\n",
    "dr2 = Drop(34, 88, 3)\n",
    "dr3 = Drop(80, 20, 10)"
   ]
  },
  {
   "cell_type": "code",
   "execution_count": 40,
   "metadata": {},
   "outputs": [],
   "source": [
    "de = SquareDensity(sp, [dr1, dr2, dr3])"
   ]
  },
  {
   "cell_type": "code",
   "execution_count": 41,
   "metadata": {},
   "outputs": [
    {
     "data": {
      "text/plain": [
       "array([[ 1.,  1.,  1., ...,  1.,  1.,  1.],\n",
       "       [ 1.,  1.,  1., ...,  1.,  1.,  1.],\n",
       "       [ 1.,  1.,  1., ...,  1.,  1.,  1.],\n",
       "       ..., \n",
       "       [ 1.,  1.,  1., ...,  1.,  1.,  1.],\n",
       "       [ 1.,  1.,  1., ...,  1.,  1.,  1.],\n",
       "       [ 1.,  1.,  1., ...,  1.,  1.,  1.]])"
      ]
     },
     "execution_count": 41,
     "metadata": {},
     "output_type": "execute_result"
    }
   ],
   "source": [
    "de.density"
   ]
  },
  {
   "cell_type": "code",
   "execution_count": 42,
   "metadata": {},
   "outputs": [
    {
     "data": {
      "image/png": "[encoded data removed]",
      "text/plain": [
       "<matplotlib.figure.Figure at 0x116d2f400>"
      ]
     },
     "metadata": {},
     "output_type": "display_data"
    }
   ],
   "source": [
    "de.plot()"
   ]
  },
  {
   "cell_type": "markdown",
   "metadata": {},
   "source": [
    "### Rain"
   ]
  },
  {
   "cell_type": "code",
   "execution_count": 26,
   "metadata": {},
   "outputs": [
    {
     "data": {
      "text/plain": [
       "array([[ 1.,  1.,  1.,  1.,  1.,  1.,  1.,  1.,  1.,  1.],\n",
       "       [ 1.,  1.,  1.,  1.,  1.,  1.,  1.,  1.,  1.,  1.],\n",
       "       [ 1.,  1.,  1.,  1.,  1.,  1.,  1.,  1.,  1.,  1.],\n",
       "       [ 1.,  1.,  1.,  1.,  1.,  1.,  1.,  1.,  1.,  1.],\n",
       "       [ 1.,  1.,  1.,  1.,  1.,  1.,  1.,  1.,  1.,  1.],\n",
       "       [ 1.,  1.,  1.,  1.,  1.,  1.,  1.,  1.,  1.,  1.],\n",
       "       [ 1.,  1.,  1.,  1.,  1.,  1.,  1.,  1.,  1.,  1.],\n",
       "       [ 1.,  1.,  1.,  1.,  1.,  1.,  1.,  1.,  1.,  1.],\n",
       "       [ 1.,  1.,  1.,  1.,  1.,  1.,  1.,  1.,  1.,  1.],\n",
       "       [ 1.,  1.,  1.,  1.,  1.,  1.,  1.,  1.,  1.,  1.]])"
      ]
     },
     "execution_count": 26,
     "metadata": {},
     "output_type": "execute_result"
    }
   ],
   "source": [
    "space.array"
   ]
  },
  {
   "cell_type": "code",
   "execution_count": 84,
   "metadata": {},
   "outputs": [],
   "source": [
    "def discrete_rejection_sampling(row_vec, max_try=10):\n",
    "    \"\"\"Return a random int strictly lower than len(`row_vec`) given a (unnormalized) density vector `row_vec`.\n",
    "    \n",
    "    Assumption: values in `row_vec` are in [0, 1]\n",
    "    \n",
    "    Parameters\n",
    "    ----------\n",
    "    row_vec : iterable\n",
    "        float values in [0, 1]\n",
    "    \n",
    "    max_try : int\n",
    "        max number of tries\n",
    "        \n",
    "    Returns\n",
    "    -------\n",
    "    out : int or None\n",
    "        the index of `row_vec` sampled according to its probability values or None if max_try is reached.\n",
    "    \n",
    "    \"\"\"\n",
    "    #print(\"max_try=\", max_try)\n",
    "    if max_try == 0:\n",
    "        return None\n",
    "    u = np.random.randint(low=len(row_vec))\n",
    "    v = np.random.sample()\n",
    "    if v < row_vec[u]:\n",
    "        return u\n",
    "    else:\n",
    "        return discrete_rejection_sampling(row_vec, max_try - 1)"
   ]
  },
  {
   "cell_type": "code",
   "execution_count": 98,
   "metadata": {},
   "outputs": [],
   "source": [
    "def sample_square_drop(space, drops, max_try=10):\n",
    "    if max_try == 0:\n",
    "        return None\n",
    "    sq_dens = SquareDensity(space, drops)\n",
    "    row_idx = np.random.randint(low=size)\n",
    "    row = sq_dens.density[row_idx, :]\n",
    "    col_idx = discrete_rejection_sampling(row)\n",
    "    if col_idx is not None:\n",
    "        return (row_idx, col_idx)\n",
    "    else:\n",
    "        return sample_square_drop(space, drops, max_try=max_try - 1)"
   ]
  },
  {
   "cell_type": "code",
   "execution_count": 99,
   "metadata": {},
   "outputs": [],
   "source": [
    "size = 10\n",
    "space = Space(size)\n",
    "drops = [Drop(5,5,2)]"
   ]
  },
  {
   "cell_type": "code",
   "execution_count": 100,
   "metadata": {},
   "outputs": [
    {
     "data": {
      "image/png": "[encoded data removed]",
      "text/plain": [
       "<matplotlib.figure.Figure at 0x115ca0710>"
      ]
     },
     "metadata": {},
     "output_type": "display_data"
    }
   ],
   "source": [
    "sq_dens = SquareDensity(space, drops)\n"
   ]
  },
  {
   "cell_type": "code",
   "execution_count": 102,
   "metadata": {},
   "outputs": [
    {
     "data": {
      "text/plain": [
       "(2, 3)"
      ]
     },
     "execution_count": 102,
     "metadata": {},
     "output_type": "execute_result"
    }
   ],
   "source": [
    "new_drop = sample_square_drop(space, drops)"
   ]
  },
  {
   "cell_type": "code",
   "execution_count": null,
   "metadata": {},
   "outputs": [],
   "source": [
    "sq_dens.plot()\n"
   ]
  },
  {
   "cell_type": "code",
   "execution_count": null,
   "metadata": {},
   "outputs": [],
   "source": []
  }
 ],
 "metadata": {
  "kernelspec": {
   "display_name": "Python [conda env:py35]",
   "language": "python",
   "name": "conda-env-py35-py"
  },
  "language_info": {
   "codemirror_mode": {
    "name": "ipython",
    "version": 3
   },
   "file_extension": ".py",
   "mimetype": "text/x-python",
   "name": "python",
   "nbconvert_exporter": "python",
   "pygments_lexer": "ipython3",
   "version": "3.5.3"
  }
 },
 "nbformat": 4,
 "nbformat_minor": 2
}
